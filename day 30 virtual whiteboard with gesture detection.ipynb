{
 "cells": [
  {
   "cell_type": "code",
   "execution_count": 13,
   "metadata": {},
   "outputs": [],
   "source": [
    "import cv2\n",
    "import mediapipe as mp\n",
    "import numpy as np\n",
    "import time\n"
   ]
  },
  {
   "cell_type": "code",
   "execution_count": 14,
   "metadata": {},
   "outputs": [],
   "source": [
    "# Initialize MediaPipe Hands\n",
    "mp_hands = mp.solutions.hands\n",
    "hands = mp_hands.Hands()\n",
    "\n",
    "# Initialize MediaPipe Drawing Utilities\n",
    "mp_drawing = mp.solutions.drawing_utils\n"
   ]
  },
  {
   "cell_type": "code",
   "execution_count": 15,
   "metadata": {},
   "outputs": [],
   "source": [
    "# Start video capture (webcam)\n",
    "cap = cv2.VideoCapture(0)\n",
    "\n",
    "# Create an empty canvas (white background)\n",
    "canvas = np.ones((480, 640, 3), dtype=np.uint8) * 255  # white canvas\n"
   ]
  },
  {
   "cell_type": "code",
   "execution_count": 16,
   "metadata": {},
   "outputs": [],
   "source": [
    "#  Function to draw on canvas based on hand movement\n",
    "def draw_on_canvas(landmarks, canvas, color=(0, 0, 0), radius=5):\n",
    "    index_tip = landmarks[mp_hands.HandLandmark.INDEX_FINGER_TIP]\n",
    "    x, y = int(index_tip.x * canvas.shape[1]), int(index_tip.y * canvas.shape[0])\n",
    "    cv2.circle(canvas, (x, y), radius, color, -1)\n",
    "\n",
    "# Function to erase on canvas based on hand gesture (open hand)\n",
    "def erase_on_canvas(landmarks, canvas, radius=15):\n",
    "    for id, lm in enumerate(landmarks):\n",
    "        x, y = int(lm.x * canvas.shape[1]), int(lm.y * canvas.shape[0])\n",
    "        cv2.circle(canvas, (x, y), radius, (255, 255, 255), -1)  # erase by painting white\n",
    "\n",
    "# Function to check if the thumb is up\n",
    "def is_thumb_up(hand_landmarks):\n",
    "    thumb_tip = hand_landmarks.landmark[mp_hands.HandLandmark.THUMB_TIP]\n",
    "    thumb_base = hand_landmarks.landmark[mp_hands.HandLandmark.THUMB_CMC]\n",
    "    \n",
    "    # Check if the thumb tip is above the thumb base (thumbs-up gesture)\n",
    "    if thumb_tip.y < thumb_base.y:\n",
    "        return True\n",
    "    return False"
   ]
  },
  {
   "cell_type": "code",
   "execution_count": 17,
   "metadata": {},
   "outputs": [],
   "source": [
    "while True:\n",
    "    ret, frame = cap.read()\n",
    "    if not ret:\n",
    "        break\n",
    "\n",
    "    # Flip the frame horizontally for a later mirror effect\n",
    "    frame = cv2.flip(frame, 1)\n",
    "\n",
    "    # Convert frame to RGB for MediaPipe\n",
    "    rgb_frame = cv2.cvtColor(frame, cv2.COLOR_BGR2RGB)\n",
    "    \n",
    "    # Process the frame and get hand landmarks\n",
    "    results = hands.process(rgb_frame)\n",
    "\n",
    "    # Draw landmarks and detect gestures\n",
    "    if results.multi_hand_landmarks:\n",
    "        for hand_landmarks in results.multi_hand_landmarks:\n",
    "            # Get the tip of the index finger (landmark 8)\n",
    "            index_tip = hand_landmarks.landmark[mp_hands.HandLandmark.INDEX_FINGER_TIP]\n",
    "            thumb_tip = hand_landmarks.landmark[mp_hands.HandLandmark.THUMB_TIP]\n",
    "\n",
    "            # Detect drawing gesture by checking index finger tip position\n",
    "            if index_tip.y < thumb_tip.y:  # index finger tip above thumb tip (simple condition for drawing)\n",
    "                draw_on_canvas(hand_landmarks.landmark, canvas, color=(0, 0, 0))\n",
    "\n",
    "            # Detect erasing gesture (open hand)\n",
    "            elif index_tip.y > thumb_tip.y:  # Use thumb and index to detect open hand\n",
    "                erase_on_canvas(hand_landmarks.landmark, canvas)\n",
    "\n",
    "            # Draw landmarks on the frame\n",
    "            mp_drawing.draw_landmarks(frame, hand_landmarks, mp_hands.HAND_CONNECTIONS)\n",
    "\n",
    "    # Display the canvas and frame\n",
    "    cv2.imshow('Virtual Whiteboard', canvas)\n",
    "    cv2.imshow('Hand Tracking', frame)\n",
    "\n",
    "    # Exit the loop when 'q' is pressed\n",
    "    if cv2.waitKey(1) & 0xFF == ord('q'):\n",
    "        break\n",
    "\n",
    "# Release the webcam and close windows\n",
    "cap.release()\n",
    "cv2.destroyAllWindows()"
   ]
  },
  {
   "cell_type": "code",
   "execution_count": 18,
   "metadata": {},
   "outputs": [],
   "source": [
    "cap.release()\n",
    "cv2.destroyAllWindows()"
   ]
  },
  {
   "cell_type": "code",
   "execution_count": null,
   "metadata": {},
   "outputs": [],
   "source": []
  }
 ],
 "metadata": {
  "kernelspec": {
   "display_name": "instagram",
   "language": "python",
   "name": "python3"
  },
  "language_info": {
   "codemirror_mode": {
    "name": "ipython",
    "version": 3
   },
   "file_extension": ".py",
   "mimetype": "text/x-python",
   "name": "python",
   "nbconvert_exporter": "python",
   "pygments_lexer": "ipython3",
   "version": "3.8.0"
  }
 },
 "nbformat": 4,
 "nbformat_minor": 2
}
